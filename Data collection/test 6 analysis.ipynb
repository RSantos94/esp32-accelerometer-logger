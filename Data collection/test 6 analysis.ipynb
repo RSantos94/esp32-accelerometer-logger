{
 "cells": [
  {
   "cell_type": "code",
   "execution_count": null,
   "metadata": {
    "collapsed": true
   },
   "outputs": [],
   "source": [
    "from matplotlib import pyplot as plt\n",
    "import numpy as np\n",
    "import seaborn as sns\n",
    "\n",
    "test006accel001 = np.genfromtxt('testes-impacto/teste-006/data-acc001.csv', dtype=np.float32, delimiter=\",\", skip_header=1)\n",
    "\n",
    "test006accel001accelxfigure = plt.figure()\n",
    "test006accel001accelxax = test006accel001accelxfigure.add_axes([0,0,1,1])\n",
    "test006accel001accelxax.bar(test006accel001[1:,7], test006accel001[1:,1])\n",
    "plt.title(\"Teste 006 - accel 1 - accel x\")\n",
    "plt.ylabel('Acceleration (mG)')\n",
    "plt.xlabel('Time')\n",
    "plt.show()\n",
    "\n",
    "test006accel001accelyfigure = plt.figure()\n",
    "test006accel001accelyax = test006accel001accelyfigure.add_axes([0,0,1,1])\n",
    "test006accel001accelyax.bar(test006accel001[50000:,7], test006accel001[50000:,2])\n",
    "plt.title(\"Teste 006 - accel 1 - accel y\")\n",
    "plt.show()\n",
    "\n",
    "test006accel001accelzfigure = plt.figure()\n",
    "test006accel001accelzax = test006accel001accelzfigure.add_axes([0,0,1,1])\n",
    "test006accel001accelzax.bar(test006accel001[50000:,7], test006accel001[50000:,3])\n",
    "plt.title(\"Teste 006 - accel 1 - accel z\")\n",
    "plt.show()\n",
    "\n",
    "test006accel001accelxfigure = plt.figure()\n",
    "test006accel001accelxax = test006accel001accelxfigure.add_axes([0,0,1,1])\n",
    "test006accel001accelxax.bar(test006accel001[1:,7], test006accel001[1:,4])\n",
    "plt.title(\"Teste 006 - accel 1 - gyro x\")\n",
    "plt.show()\n",
    "\n",
    "test006accel001accelyfigure = plt.figure()\n",
    "test006accel001accelyax = test006accel001accelyfigure.add_axes([0,0,1,1])\n",
    "test006accel001accelyax.bar(test006accel001[1:,7], test006accel001[1:,5])\n",
    "plt.title(\"Teste 006 - accel 1 - gyro y\")\n",
    "plt.show()\n",
    "\n",
    "test006accel001accelzfigure = plt.figure()\n",
    "test006accel001accelzax = test006accel001accelzfigure.add_axes([0,0,1,1])\n",
    "test006accel001accelzax.bar(test006accel001[1:,7], test006accel001[1:,6])\n",
    "plt.title(\"Teste 006 - accel 1 - gyro z\")\n",
    "plt.show()"
   ]
  },
  {
   "cell_type": "code",
   "execution_count": null,
   "outputs": [
    {
     "data": {
      "text/plain": "<Figure size 432x288 with 1 Axes>",
      "image/png": "[encoded data removed]"
     },
     "metadata": {
      "needs_background": "light"
     },
     "output_type": "display_data"
    },
    {
     "data": {
      "text/plain": "<Figure size 432x288 with 1 Axes>",
      "image/png": "[encoded data removed]"
     },
     "metadata": {
      "needs_background": "light"
     },
     "output_type": "display_data"
    },
    {
     "ename": "ValueError",
     "evalue": "shape mismatch: objects cannot be broadcast to a single shape",
     "output_type": "error",
     "traceback": [
      "\u001B[0;31m---------------------------------------------------------------------------\u001B[0m",
      "\u001B[0;31mValueError\u001B[0m                                Traceback (most recent call last)",
      "\u001B[0;32m/tmp/ipykernel_291/271168598.py\u001B[0m in \u001B[0;36m<module>\u001B[0;34m\u001B[0m\n\u001B[1;32m     38\u001B[0m \u001B[0mtest006accel002gyrozfigure\u001B[0m \u001B[0;34m=\u001B[0m \u001B[0mplt\u001B[0m\u001B[0;34m.\u001B[0m\u001B[0mfigure\u001B[0m\u001B[0;34m(\u001B[0m\u001B[0;34m)\u001B[0m\u001B[0;34m\u001B[0m\u001B[0;34m\u001B[0m\u001B[0m\n\u001B[1;32m     39\u001B[0m \u001B[0mtest006accel002gyrozax\u001B[0m \u001B[0;34m=\u001B[0m \u001B[0mtest006accel002gyrozfigure\u001B[0m\u001B[0;34m.\u001B[0m\u001B[0madd_axes\u001B[0m\u001B[0;34m(\u001B[0m\u001B[0;34m[\u001B[0m\u001B[0;36m0\u001B[0m\u001B[0;34m,\u001B[0m\u001B[0;36m0\u001B[0m\u001B[0;34m,\u001B[0m\u001B[0;36m1\u001B[0m\u001B[0;34m,\u001B[0m\u001B[0;36m1\u001B[0m\u001B[0;34m]\u001B[0m\u001B[0;34m)\u001B[0m\u001B[0;34m\u001B[0m\u001B[0;34m\u001B[0m\u001B[0m\n\u001B[0;32m---> 40\u001B[0;31m \u001B[0mtest006accel002gyrozax\u001B[0m\u001B[0;34m.\u001B[0m\u001B[0mbar\u001B[0m\u001B[0;34m(\u001B[0m\u001B[0mtest006accel001\u001B[0m\u001B[0;34m[\u001B[0m\u001B[0;36m1\u001B[0m\u001B[0;34m:\u001B[0m\u001B[0;34m,\u001B[0m\u001B[0;36m7\u001B[0m\u001B[0;34m]\u001B[0m\u001B[0;34m,\u001B[0m \u001B[0mtest006accel002\u001B[0m\u001B[0;34m[\u001B[0m\u001B[0;36m1\u001B[0m\u001B[0;34m:\u001B[0m\u001B[0;34m,\u001B[0m\u001B[0;36m6\u001B[0m\u001B[0;34m]\u001B[0m\u001B[0;34m)\u001B[0m\u001B[0;34m\u001B[0m\u001B[0;34m\u001B[0m\u001B[0m\n\u001B[0m\u001B[1;32m     41\u001B[0m \u001B[0mplt\u001B[0m\u001B[0;34m.\u001B[0m\u001B[0mtitle\u001B[0m\u001B[0;34m(\u001B[0m\u001B[0;34m\"Teste 006 - accel 2 - gyro z\"\u001B[0m\u001B[0;34m)\u001B[0m\u001B[0;34m\u001B[0m\u001B[0;34m\u001B[0m\u001B[0m\n\u001B[1;32m     42\u001B[0m \u001B[0mplt\u001B[0m\u001B[0;34m.\u001B[0m\u001B[0mshow\u001B[0m\u001B[0;34m(\u001B[0m\u001B[0;34m)\u001B[0m\u001B[0;34m\u001B[0m\u001B[0;34m\u001B[0m\u001B[0m\n",
      "\u001B[0;32m~/git/vessel-impact-detection/venv/lib/python3.9/site-packages/matplotlib/__init__.py\u001B[0m in \u001B[0;36minner\u001B[0;34m(ax, data, *args, **kwargs)\u001B[0m\n\u001B[1;32m   1359\u001B[0m     \u001B[0;32mdef\u001B[0m \u001B[0minner\u001B[0m\u001B[0;34m(\u001B[0m\u001B[0max\u001B[0m\u001B[0;34m,\u001B[0m \u001B[0;34m*\u001B[0m\u001B[0margs\u001B[0m\u001B[0;34m,\u001B[0m \u001B[0mdata\u001B[0m\u001B[0;34m=\u001B[0m\u001B[0;32mNone\u001B[0m\u001B[0;34m,\u001B[0m \u001B[0;34m**\u001B[0m\u001B[0mkwargs\u001B[0m\u001B[0;34m)\u001B[0m\u001B[0;34m:\u001B[0m\u001B[0;34m\u001B[0m\u001B[0;34m\u001B[0m\u001B[0m\n\u001B[1;32m   1360\u001B[0m         \u001B[0;32mif\u001B[0m \u001B[0mdata\u001B[0m \u001B[0;32mis\u001B[0m \u001B[0;32mNone\u001B[0m\u001B[0;34m:\u001B[0m\u001B[0;34m\u001B[0m\u001B[0;34m\u001B[0m\u001B[0m\n\u001B[0;32m-> 1361\u001B[0;31m             \u001B[0;32mreturn\u001B[0m \u001B[0mfunc\u001B[0m\u001B[0;34m(\u001B[0m\u001B[0max\u001B[0m\u001B[0;34m,\u001B[0m \u001B[0;34m*\u001B[0m\u001B[0mmap\u001B[0m\u001B[0;34m(\u001B[0m\u001B[0msanitize_sequence\u001B[0m\u001B[0;34m,\u001B[0m \u001B[0margs\u001B[0m\u001B[0;34m)\u001B[0m\u001B[0;34m,\u001B[0m \u001B[0;34m**\u001B[0m\u001B[0mkwargs\u001B[0m\u001B[0;34m)\u001B[0m\u001B[0;34m\u001B[0m\u001B[0;34m\u001B[0m\u001B[0m\n\u001B[0m\u001B[1;32m   1362\u001B[0m \u001B[0;34m\u001B[0m\u001B[0m\n\u001B[1;32m   1363\u001B[0m         \u001B[0mbound\u001B[0m \u001B[0;34m=\u001B[0m \u001B[0mnew_sig\u001B[0m\u001B[0;34m.\u001B[0m\u001B[0mbind\u001B[0m\u001B[0;34m(\u001B[0m\u001B[0max\u001B[0m\u001B[0;34m,\u001B[0m \u001B[0;34m*\u001B[0m\u001B[0margs\u001B[0m\u001B[0;34m,\u001B[0m \u001B[0;34m**\u001B[0m\u001B[0mkwargs\u001B[0m\u001B[0;34m)\u001B[0m\u001B[0;34m\u001B[0m\u001B[0;34m\u001B[0m\u001B[0m\n",
      "\u001B[0;32m~/git/vessel-impact-detection/venv/lib/python3.9/site-packages/matplotlib/axes/_axes.py\u001B[0m in \u001B[0;36mbar\u001B[0;34m(self, x, height, width, bottom, align, **kwargs)\u001B[0m\n\u001B[1;32m   2302\u001B[0m                 \u001B[0myerr\u001B[0m \u001B[0;34m=\u001B[0m \u001B[0mself\u001B[0m\u001B[0;34m.\u001B[0m\u001B[0m_convert_dx\u001B[0m\u001B[0;34m(\u001B[0m\u001B[0myerr\u001B[0m\u001B[0;34m,\u001B[0m \u001B[0my0\u001B[0m\u001B[0;34m,\u001B[0m \u001B[0my\u001B[0m\u001B[0;34m,\u001B[0m \u001B[0mself\u001B[0m\u001B[0;34m.\u001B[0m\u001B[0mconvert_yunits\u001B[0m\u001B[0;34m)\u001B[0m\u001B[0;34m\u001B[0m\u001B[0;34m\u001B[0m\u001B[0m\n\u001B[1;32m   2303\u001B[0m \u001B[0;34m\u001B[0m\u001B[0m\n\u001B[0;32m-> 2304\u001B[0;31m         x, height, width, y, linewidth, hatch = np.broadcast_arrays(\n\u001B[0m\u001B[1;32m   2305\u001B[0m             \u001B[0;31m# Make args iterable too.\u001B[0m\u001B[0;34m\u001B[0m\u001B[0;34m\u001B[0m\u001B[0m\n\u001B[1;32m   2306\u001B[0m             np.atleast_1d(x), height, width, y, linewidth, hatch)\n",
      "\u001B[0;32m<__array_function__ internals>\u001B[0m in \u001B[0;36mbroadcast_arrays\u001B[0;34m(*args, **kwargs)\u001B[0m\n",
      "\u001B[0;32m~/git/vessel-impact-detection/venv/lib/python3.9/site-packages/numpy/lib/stride_tricks.py\u001B[0m in \u001B[0;36mbroadcast_arrays\u001B[0;34m(subok, *args)\u001B[0m\n\u001B[1;32m    536\u001B[0m     \u001B[0margs\u001B[0m \u001B[0;34m=\u001B[0m \u001B[0;34m[\u001B[0m\u001B[0mnp\u001B[0m\u001B[0;34m.\u001B[0m\u001B[0marray\u001B[0m\u001B[0;34m(\u001B[0m\u001B[0m_m\u001B[0m\u001B[0;34m,\u001B[0m \u001B[0mcopy\u001B[0m\u001B[0;34m=\u001B[0m\u001B[0;32mFalse\u001B[0m\u001B[0;34m,\u001B[0m \u001B[0msubok\u001B[0m\u001B[0;34m=\u001B[0m\u001B[0msubok\u001B[0m\u001B[0;34m)\u001B[0m \u001B[0;32mfor\u001B[0m \u001B[0m_m\u001B[0m \u001B[0;32min\u001B[0m \u001B[0margs\u001B[0m\u001B[0;34m]\u001B[0m\u001B[0;34m\u001B[0m\u001B[0;34m\u001B[0m\u001B[0m\n\u001B[1;32m    537\u001B[0m \u001B[0;34m\u001B[0m\u001B[0m\n\u001B[0;32m--> 538\u001B[0;31m     \u001B[0mshape\u001B[0m \u001B[0;34m=\u001B[0m \u001B[0m_broadcast_shape\u001B[0m\u001B[0;34m(\u001B[0m\u001B[0;34m*\u001B[0m\u001B[0margs\u001B[0m\u001B[0;34m)\u001B[0m\u001B[0;34m\u001B[0m\u001B[0;34m\u001B[0m\u001B[0m\n\u001B[0m\u001B[1;32m    539\u001B[0m \u001B[0;34m\u001B[0m\u001B[0m\n\u001B[1;32m    540\u001B[0m     \u001B[0;32mif\u001B[0m \u001B[0mall\u001B[0m\u001B[0;34m(\u001B[0m\u001B[0marray\u001B[0m\u001B[0;34m.\u001B[0m\u001B[0mshape\u001B[0m \u001B[0;34m==\u001B[0m \u001B[0mshape\u001B[0m \u001B[0;32mfor\u001B[0m \u001B[0marray\u001B[0m \u001B[0;32min\u001B[0m \u001B[0margs\u001B[0m\u001B[0;34m)\u001B[0m\u001B[0;34m:\u001B[0m\u001B[0;34m\u001B[0m\u001B[0;34m\u001B[0m\u001B[0m\n",
      "\u001B[0;32m~/git/vessel-impact-detection/venv/lib/python3.9/site-packages/numpy/lib/stride_tricks.py\u001B[0m in \u001B[0;36m_broadcast_shape\u001B[0;34m(*args)\u001B[0m\n\u001B[1;32m    418\u001B[0m     \u001B[0;31m# use the old-iterator because np.nditer does not handle size 0 arrays\u001B[0m\u001B[0;34m\u001B[0m\u001B[0;34m\u001B[0m\u001B[0m\n\u001B[1;32m    419\u001B[0m     \u001B[0;31m# consistently\u001B[0m\u001B[0;34m\u001B[0m\u001B[0;34m\u001B[0m\u001B[0m\n\u001B[0;32m--> 420\u001B[0;31m     \u001B[0mb\u001B[0m \u001B[0;34m=\u001B[0m \u001B[0mnp\u001B[0m\u001B[0;34m.\u001B[0m\u001B[0mbroadcast\u001B[0m\u001B[0;34m(\u001B[0m\u001B[0;34m*\u001B[0m\u001B[0margs\u001B[0m\u001B[0;34m[\u001B[0m\u001B[0;34m:\u001B[0m\u001B[0;36m32\u001B[0m\u001B[0;34m]\u001B[0m\u001B[0;34m)\u001B[0m\u001B[0;34m\u001B[0m\u001B[0;34m\u001B[0m\u001B[0m\n\u001B[0m\u001B[1;32m    421\u001B[0m     \u001B[0;31m# unfortunately, it cannot handle 32 or more arguments directly\u001B[0m\u001B[0;34m\u001B[0m\u001B[0;34m\u001B[0m\u001B[0m\n\u001B[1;32m    422\u001B[0m     \u001B[0;32mfor\u001B[0m \u001B[0mpos\u001B[0m \u001B[0;32min\u001B[0m \u001B[0mrange\u001B[0m\u001B[0;34m(\u001B[0m\u001B[0;36m32\u001B[0m\u001B[0;34m,\u001B[0m \u001B[0mlen\u001B[0m\u001B[0;34m(\u001B[0m\u001B[0margs\u001B[0m\u001B[0;34m)\u001B[0m\u001B[0;34m,\u001B[0m \u001B[0;36m31\u001B[0m\u001B[0;34m)\u001B[0m\u001B[0;34m:\u001B[0m\u001B[0;34m\u001B[0m\u001B[0;34m\u001B[0m\u001B[0m\n",
      "\u001B[0;31mValueError\u001B[0m: shape mismatch: objects cannot be broadcast to a single shape"
     ]
    },
    {
     "data": {
      "text/plain": "<Figure size 432x288 with 1 Axes>",
      "image/png": "[encoded data removed]"
     },
     "metadata": {
      "needs_background": "light"
     },
     "output_type": "display_data"
    }
   ],
   "source": [
    "from matplotlib import pyplot as plt\n",
    "import numpy as np\n",
    "\n",
    "test006accel002 = np.genfromtxt('testes-impacto/teste-006/data-acc002.csv', dtype=np.float32, delimiter=\",\", skip_header=1)\n",
    "\n",
    "test006accel002accelxfigure = plt.figure()\n",
    "test006accel002accelxax = test006accel002accelxfigure.add_axes([0,0,1,1])\n",
    "test006accel002accelxax.bar(test006accel002[1:,7], test006accel002[1:,1])\n",
    "plt.title(\"Teste 006 - accel 2 - accel x\")\n",
    "plt.show()\n",
    "\n",
    "test006accel002accelyfigure = plt.figure()\n",
    "test006accel002accelyax = test006accel002accelyfigure.add_axes([0,0,1,1])\n",
    "test006accel002accelyax.bar(test006accel002[1:,7], test006accel002[1:,2])\n",
    "plt.title(\"Teste 006 - accel 2 - accel y\")\n",
    "plt.show()\n",
    "\n",
    "test006accel002accelzfigure = plt.figure()\n",
    "test006accel002accelzax = test006accel002accelzfigure.add_axes([0,0,1,1])\n",
    "test006accel002accelzax.bar(test006accel002[1:,7], test006accel002[1:,3])\n",
    "plt.title(\"Teste 006 - accel 2 - accel z\")\n",
    "plt.show()\n",
    "\n",
    "test006accel002gyroxfigure = plt.figure()\n",
    "test006accel002gyroxax = test006accel002gyroxfigure.add_axes([0,0,1,1])\n",
    "test006accel002gyroxax.bar(test006accel002[1:,7], test006accel002[1:,4])\n",
    "plt.title(\"Teste 006 - accel 2 - gyro x\")\n",
    "plt.show()\n",
    "\n",
    "test006accel002gyroyfigure = plt.figure()\n",
    "test006accel002gyroyax = test006accel002accelyfigure.add_axes([0,0,1,1])\n",
    "test006accel002gyroyax.bar(test006accel002[1:,7], test006accel002[1:,5])\n",
    "plt.title(\"Teste 006 - accel 2 - gyro y\")\n",
    "plt.show()\n",
    "\n",
    "test006accel002gyrozfigure = plt.figure()\n",
    "test006accel002gyrozax = test006accel002gyrozfigure.add_axes([0,0,1,1])\n",
    "test006accel002gyrozax.bar(test006accel001[1:,7], test006accel002[1:,6])\n",
    "plt.title(\"Teste 006 - accel 2 - gyro z\")\n",
    "plt.show()"
   ],
   "metadata": {
    "collapsed": false,
    "pycharm": {
     "name": "#%%\n"
    }
   }
  },
  {
   "cell_type": "code",
   "execution_count": null,
   "outputs": [],
   "source": [
    "from matplotlib import pyplot as plt\n",
    "import numpy as np\n",
    "import seaborn as sns\n",
    "\n",
    "test006accel001 = np.genfromtxt('testes-impacto/teste-006/data-acc003.csv', dtype=np.float32, delimiter=\",\", skip_header=1)\n",
    "\n",
    "test006accel001accelxfigure = plt.figure()\n",
    "test006accel001accelxax = test006accel001accelxfigure.add_axes([0,0,1,1])\n",
    "test006accel001accelxax.bar(test006accel001[1:,7], test006accel001[1:,1])\n",
    "plt.title(\"Teste 006 - accel 3 - accel x\")\n",
    "plt.ylabel('Acceleration (mG)')\n",
    "plt.xlabel('Time')\n",
    "plt.show()\n",
    "\n",
    "test006accel001accelyfigure = plt.figure()\n",
    "test006accel001accelyax = test006accel001accelyfigure.add_axes([0,0,1,1])\n",
    "test006accel001accelyax.bar(test006accel001[50000:,7], test006accel001[50000:,2])\n",
    "plt.title(\"Teste 006 - accel 3 - accel y\")\n",
    "plt.show()\n",
    "\n",
    "test006accel001accelzfigure = plt.figure()\n",
    "test006accel001accelzax = test006accel001accelzfigure.add_axes([0,0,1,1])\n",
    "test006accel001accelzax.bar(test006accel001[50000:,7], test006accel001[50000:,3])\n",
    "plt.title(\"Teste 006 - accel 3 - accel z\")\n",
    "plt.show()\n",
    "\n",
    "test006accel001accelxfigure = plt.figure()\n",
    "test006accel001accelxax = test006accel001accelxfigure.add_axes([0,0,1,1])\n",
    "test006accel001accelxax.bar(test006accel001[1:,7], test006accel001[1:,4])\n",
    "plt.title(\"Teste 006 - accel 3 - gyro x\")\n",
    "plt.show()\n",
    "\n",
    "test006accel001accelyfigure = plt.figure()\n",
    "test006accel001accelyax = test006accel001accelyfigure.add_axes([0,0,1,1])\n",
    "test006accel001accelyax.bar(test006accel001[1:,7], test006accel001[1:,5])\n",
    "plt.title(\"Teste 006 - accel 3 - gyro y\")\n",
    "plt.show()\n",
    "\n",
    "test006accel001accelzfigure = plt.figure()\n",
    "test006accel001accelzax = test006accel001accelzfigure.add_axes([0,0,1,1])\n",
    "test006accel001accelzax.bar(test006accel001[1:,7], test006accel001[1:,6])\n",
    "plt.title(\"Teste 006 - accel 3 - gyro z\")\n",
    "plt.show()"
   ],
   "metadata": {
    "collapsed": false,
    "pycharm": {
     "name": "#%%\n"
    }
   }
  }
 ],
 "metadata": {
  "kernelspec": {
   "display_name": "Python 3",
   "language": "python",
   "name": "python3"
  },
  "language_info": {
   "codemirror_mode": {
    "name": "ipython",
    "version": 2
   },
   "file_extension": ".py",
   "mimetype": "text/x-python",
   "name": "python",
   "nbconvert_exporter": "python",
   "pygments_lexer": "ipython2",
   "version": "2.7.6"
  }
 },
 "nbformat": 4,
 "nbformat_minor": 0
}