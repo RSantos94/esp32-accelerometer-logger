{
 "cells": [
  {
   "cell_type": "code",
   "execution_count": 1,
   "metadata": {
    "collapsed": true
   },
   "outputs": [
    {
     "data": {
      "text/plain": "<Figure size 432x288 with 1 Axes>",
      "image/png": "[encoded data removed]"
     },
     "metadata": {
      "needs_background": "light"
     },
     "output_type": "display_data"
    }
   ],
   "source": [
    "from matplotlib import pyplot as plt\n",
    "import numpy as np\n",
    "import seaborn as sns\n",
    "\n",
    "test006accel001 = np.genfromtxt('testes-impacto/teste-010/data-acc001.csv', dtype=np.float32, delimiter=\",\", skip_header=1)\n",
    "\n",
    "test006accel001accelxfigure = plt.figure()\n",
    "test006accel001accelxax = test006accel001accelxfigure.add_axes([0,0,1,1])\n",
    "print(test006accel001[1:,1])\n",
    "test006accel001accelxax.bar(test006accel001[1:,7], test006accel001[1:,1])\n",
    "plt.title(\"Teste 006 - accel 1 - accel x\")\n",
    "plt.ylabel('Acceleration (mG)')\n",
    "plt.xlabel('Time')\n",
    "plt.show()\n",
    "\n",
    "test006accel001accelyfigure = plt.figure()\n",
    "test006accel001accelyax = test006accel001accelyfigure.add_axes([0,0,1,1])\n",
    "test006accel001accelyax.bar(test006accel001[1:,7], test006accel001[1:,2])\n",
    "plt.title(\"Teste 006 - accel 1 - accel y\")\n",
    "plt.show()\n",
    "\n",
    "test006accel001accelzfigure = plt.figure()\n",
    "test006accel001accelzax = test006accel001accelzfigure.add_axes([0,0,1,1])\n",
    "test006accel001accelzax.bar(test006accel001[1:,7], test006accel001[1:,3])\n",
    "plt.title(\"Teste 006 - accel 1 - accel z\")\n",
    "plt.show()\n",
    "\n",
    "test006accel001accelxfigure = plt.figure()\n",
    "test006accel001accelxax = test006accel001accelxfigure.add_axes([0,0,1,1])\n",
    "print(test006accel001[1:,4])\n",
    "test006accel001accelxax.bar(test006accel001[1:,7], test006accel001[1:,4])\n",
    "plt.title(\"Teste 006 - accel 1 - gyro x\")\n",
    "plt.show()\n",
    "\n",
    "test006accel001accelyfigure = plt.figure()\n",
    "test006accel001accelyax = test006accel001accelyfigure.add_axes([0,0,1,1])\n",
    "test006accel001accelyax.bar(test006accel001[1:,7], test006accel001[1:,5])\n",
    "plt.title(\"Teste 006 - accel 1 - gyro y\")\n",
    "plt.show()\n",
    "\n",
    "test006accel001accelzfigure = plt.figure()\n",
    "test006accel001accelzax = test006accel001accelzfigure.add_axes([0,0,1,1])\n",
    "test006accel001accelzax.bar(test006accel001[1:,7], test006accel001[1:,6])\n",
    "plt.title(\"Teste 006 - accel 1 - gyro z\")\n",
    "plt.show()"
   ]
  },
  {
   "cell_type": "code",
   "execution_count": null,
   "outputs": [
    {
     "name": "stdout",
     "output_type": "stream",
     "text": [
      "[141.11 141.6  141.11 ... 432.62 418.7  324.95]\n"
     ]
    }
   ],
   "source": [
    "from matplotlib import pyplot as plt\n",
    "import numpy as np\n",
    "\n",
    "test006accel002 = np.genfromtxt('testes-impacto/teste-010/data-acc002.csv', dtype=np.float32, delimiter=\",\", skip_header=1)\n",
    "\n",
    "test006accel002accelxfigure = plt.figure()\n",
    "test006accel002accelxax = test006accel002accelxfigure.add_axes([0,0,1,1])\n",
    "test006accel002accelxax.bar(test006accel002[1:,7], test006accel002[1:,1])\n",
    "plt.title(\"Teste 006 - accel 2 - accel x\")\n",
    "plt.show()\n",
    "\n",
    "test006accel002accelyfigure = plt.figure()\n",
    "test006accel002accelyax = test006accel002accelyfigure.add_axes([0,0,1,1])\n",
    "test006accel002accelyax.bar(test006accel002[1:,7], test006accel002[1:,2])\n",
    "plt.title(\"Teste 006 - accel 2 - accel y\")\n",
    "plt.show()\n",
    "\n",
    "test006accel002accelzfigure = plt.figure()\n",
    "test006accel002accelzax = test006accel002accelzfigure.add_axes([0,0,1,1])\n",
    "test006accel002accelzax.bar(test006accel002[1:,7], test006accel002[1:,3])\n",
    "plt.title(\"Teste 006 - accel 2 - accel z\")\n",
    "plt.show()\n",
    "\n",
    "test006accel002gyroxfigure = plt.figure()\n",
    "test006accel002gyroxax = test006accel002gyroxfigure.add_axes([0,0,1,1])\n",
    "test006accel002gyroxax.bar(test006accel002[1:,7], test006accel002[1:,4])\n",
    "plt.title(\"Teste 006 - accel 2 - gyro x\")\n",
    "plt.show()\n",
    "\n",
    "test006accel002gyroyfigure = plt.figure()\n",
    "test006accel002gyroyax = test006accel002accelyfigure.add_axes([0,0,1,1])\n",
    "test006accel002gyroyax.bar(test006accel002[1:,7], test006accel002[1:,5])\n",
    "plt.title(\"Teste 006 - accel 2 - gyro y\")\n",
    "plt.show()\n",
    "\n",
    "test006accel002gyrozfigure = plt.figure()\n",
    "test006accel002gyrozax = test006accel002gyrozfigure.add_axes([0,0,1,1])\n",
    "test006accel002gyrozax.bar(test006accel001[1:,7], test006accel002[1:,6])\n",
    "plt.title(\"Teste 006 - accel 2 - gyro z\")\n",
    "plt.show()"
   ],
   "metadata": {
    "collapsed": false,
    "pycharm": {
     "name": "#%%\n",
     "is_executing": true
    }
   }
  },
  {
   "cell_type": "code",
   "execution_count": null,
   "outputs": [],
   "source": [
    "from matplotlib import pyplot as plt\n",
    "import numpy as np\n",
    "import seaborn as sns\n",
    "\n",
    "test006accel001 = np.genfromtxt('testes-impacto/teste-010/data-acc003.csv', dtype=np.float32, delimiter=\",\", skip_header=1)\n",
    "\n",
    "test006accel001accelxfigure = plt.figure()\n",
    "test006accel001accelxax = test006accel001accelxfigure.add_axes([0,0,1,1])\n",
    "test006accel001accelxax.bar(test006accel001[1:,7], test006accel001[1:,1])\n",
    "plt.title(\"Teste 006 - accel 3 - accel x\")\n",
    "plt.ylabel('Acceleration (mG)')\n",
    "plt.xlabel('Time')\n",
    "plt.show()\n",
    "\n",
    "test006accel001accelyfigure = plt.figure()\n",
    "test006accel001accelyax = test006accel001accelyfigure.add_axes([0,0,1,1])\n",
    "test006accel001accelyax.bar(test006accel001[1:,7], test006accel001[1:,2])\n",
    "plt.title(\"Teste 006 - accel 3 - accel y\")\n",
    "plt.show()\n",
    "\n",
    "test006accel001accelzfigure = plt.figure()\n",
    "test006accel001accelzax = test006accel001accelzfigure.add_axes([0,0,1,1])\n",
    "test006accel001accelzax.bar(test006accel001[1:,7], test006accel001[1:,3])\n",
    "plt.title(\"Teste 006 - accel 3 - accel z\")\n",
    "plt.show()\n",
    "\n",
    "test006accel001accelxfigure = plt.figure()\n",
    "test006accel001accelxax = test006accel001accelxfigure.add_axes([0,0,1,1])\n",
    "test006accel001accelxax.bar(test006accel001[1:,7], test006accel001[1:,4])\n",
    "plt.title(\"Teste 006 - accel 3 - gyro x\")\n",
    "plt.show()\n",
    "\n",
    "test006accel001accelyfigure = plt.figure()\n",
    "test006accel001accelyax = test006accel001accelyfigure.add_axes([0,0,1,1])\n",
    "test006accel001accelyax.bar(test006accel001[1:,7], test006accel001[1:,5])\n",
    "plt.title(\"Teste 006 - accel 3 - gyro y\")\n",
    "plt.show()\n",
    "\n",
    "test006accel001accelzfigure = plt.figure()\n",
    "test006accel001accelzax = test006accel001accelzfigure.add_axes([0,0,1,1])\n",
    "test006accel001accelzax.bar(test006accel001[1:,7], test006accel001[1:,6])\n",
    "plt.title(\"Teste 006 - accel 3 - gyro z\")\n",
    "plt.show()"
   ],
   "metadata": {
    "collapsed": false,
    "pycharm": {
     "name": "#%%\n",
     "is_executing": true
    }
   }
  }
 ],
 "metadata": {
  "kernelspec": {
   "display_name": "Python 3",
   "language": "python",
   "name": "python3"
  },
  "language_info": {
   "codemirror_mode": {
    "name": "ipython",
    "version": 2
   },
   "file_extension": ".py",
   "mimetype": "text/x-python",
   "name": "python",
   "nbconvert_exporter": "python",
   "pygments_lexer": "ipython2",
   "version": "2.7.6"
  }
 },
 "nbformat": 4,
 "nbformat_minor": 0
}