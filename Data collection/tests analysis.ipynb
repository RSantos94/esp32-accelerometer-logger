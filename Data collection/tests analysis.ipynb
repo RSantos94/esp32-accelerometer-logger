{
 "cells": [
  {
   "cell_type": "code",
   "execution_count": null,
   "metadata": {
    "collapsed": true,
    "pycharm": {
     "is_executing": true
    }
   },
   "outputs": [
    {
     "data": {
      "text/plain": "<Figure size 432x288 with 1 Axes>",
      "image/png": "[encoded data removed]"
     },
     "metadata": {
      "needs_background": "light"
     },
     "output_type": "display_data"
    }
   ],
   "source": [
    "from matplotlib import pyplot as plt\n",
    "import numpy as np\n",
    "\n",
    "test006accel001 = np.genfromtxt('testes-impacto/teste-006/data-acc001.csv', dtype=np.float32, delimiter=\",\", skip_header=1)\n",
    "\n",
    "test006accel001accelxfigure = plt.figure()\n",
    "test006accel001accelxax = test006accel001accelxfigure.add_axes([0,0,1,1])\n",
    "test006accel001accelx  = test006accel001[1:,1]\n",
    "test006accel001time = test006accel001[1:,7]\n",
    "test006accel001accelxax.bar(test006accel001time, test006accel001accelx)\n",
    "plt.title(\"Cenas\")\n",
    "plt.show()\n",
    "\n",
    "test006accel001accelyfigure = plt.figure()\n",
    "test006accel001accelyax = test006accel001accelyfigure.add_axes([0,0,1,1])\n",
    "test006accel001accely  = test006accel001[1:,2]\n",
    "test006accel001time = test006accel001[1:,7]\n",
    "test006accel001accelyax.bar(test006accel001time, test006accel001accely)\n",
    "plt.title(\"Cenas 2\")\n",
    "plt.show()\n",
    "\n",
    "test006accel001accelzfigure = plt.figure()\n",
    "test006accel001accelzax = test006accel001accelzfigure.add_axes([0,0,1,1])\n",
    "test006accel001accelz  = test006accel001[1:,3]\n",
    "test006accel001time = test006accel001[1:,7]\n",
    "test006accel001accelzax.bar(test006accel001time, test006accel001accelz)\n",
    "plt.show()\n",
    "\n"
   ]
  }
 ],
 "metadata": {
  "kernelspec": {
   "display_name": "Python 3",
   "language": "python",
   "name": "python3"
  },
  "language_info": {
   "codemirror_mode": {
    "name": "ipython",
    "version": 2
   },
   "file_extension": ".py",
   "mimetype": "text/x-python",
   "name": "python",
   "nbconvert_exporter": "python",
   "pygments_lexer": "ipython2",
   "version": "2.7.6"
  }
 },
 "nbformat": 4,
 "nbformat_minor": 0
}